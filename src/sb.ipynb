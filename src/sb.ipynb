{
 "cells": [
  {
   "cell_type": "markdown",
   "id": "d094c345",
   "metadata": {},
   "source": [
    "## Restaurant reviews simple sentiment analysis"
   ]
  },
  {
   "cell_type": "markdown",
   "id": "abf0742f",
   "metadata": {},
   "source": [
    "#### Imports and stuff"
   ]
  },
  {
   "cell_type": "code",
   "execution_count": 1,
   "id": "ff553e28",
   "metadata": {},
   "outputs": [],
   "source": [
    "import pandas as pd\n",
    "import numpy as np \n",
    "import nltk\n",
    "import matplotlib.pyplot as plt\n",
    "#nltk.download('punkt')\n",
    "plt.style.use('ggplot')\n",
    "from tqdm.notebook import tqdm"
   ]
  },
  {
   "cell_type": "code",
   "execution_count": 2,
   "id": "e7ebfae6",
   "metadata": {},
   "outputs": [],
   "source": [
    "df_real = pd.read_csv(\"C:/Users/costa/Downloads/archive/Restaurant reviews.csv\")\n",
    "df = df_real.copy()"
   ]
  },
  {
   "cell_type": "code",
   "execution_count": 3,
   "id": "db1fb028-3aab-489c-bcd2-099465f1f601",
   "metadata": {
    "tags": []
   },
   "outputs": [],
   "source": [
    "df.columns = [i.lower() for i in df.columns]"
   ]
  },
  {
   "cell_type": "markdown",
   "id": "5249820a",
   "metadata": {},
   "source": [
    "#### Quick EDA"
   ]
  },
  {
   "cell_type": "markdown",
   "id": "3bdb4a8d-f57a-479e-92c5-0f488591b7f1",
   "metadata": {},
   "source": [
    "EDA stands for Exploratory Data Analysis. Here we just have a quick look at:\n",
    "- how the data are strucutured with df.head\n",
    "- if there are any null values in the colums with df.info\n",
    "- the distribution of the labels with the bar chart"
   ]
  },
  {
   "cell_type": "code",
   "execution_count": 4,
   "id": "c8f867e2",
   "metadata": {},
   "outputs": [
    {
     "data": {
      "text/html": [
       "<div>\n",
       "<style scoped>\n",
       "    .dataframe tbody tr th:only-of-type {\n",
       "        vertical-align: middle;\n",
       "    }\n",
       "\n",
       "    .dataframe tbody tr th {\n",
       "        vertical-align: top;\n",
       "    }\n",
       "\n",
       "    .dataframe thead th {\n",
       "        text-align: right;\n",
       "    }\n",
       "</style>\n",
       "<table border=\"1\" class=\"dataframe\">\n",
       "  <thead>\n",
       "    <tr style=\"text-align: right;\">\n",
       "      <th></th>\n",
       "      <th>restaurant</th>\n",
       "      <th>reviewer</th>\n",
       "      <th>review</th>\n",
       "      <th>rating</th>\n",
       "      <th>metadata</th>\n",
       "      <th>time</th>\n",
       "      <th>pictures</th>\n",
       "      <th>7514</th>\n",
       "    </tr>\n",
       "  </thead>\n",
       "  <tbody>\n",
       "    <tr>\n",
       "      <th>0</th>\n",
       "      <td>Beyond Flavours</td>\n",
       "      <td>Rusha Chakraborty</td>\n",
       "      <td>The ambience was good, food was quite good . h...</td>\n",
       "      <td>5</td>\n",
       "      <td>1 Review , 2 Followers</td>\n",
       "      <td>5/25/2019 15:54</td>\n",
       "      <td>0</td>\n",
       "      <td>2447.0</td>\n",
       "    </tr>\n",
       "    <tr>\n",
       "      <th>1</th>\n",
       "      <td>Beyond Flavours</td>\n",
       "      <td>Anusha Tirumalaneedi</td>\n",
       "      <td>Ambience is too good for a pleasant evening. S...</td>\n",
       "      <td>5</td>\n",
       "      <td>3 Reviews , 2 Followers</td>\n",
       "      <td>5/25/2019 14:20</td>\n",
       "      <td>0</td>\n",
       "      <td>NaN</td>\n",
       "    </tr>\n",
       "    <tr>\n",
       "      <th>2</th>\n",
       "      <td>Beyond Flavours</td>\n",
       "      <td>Ashok Shekhawat</td>\n",
       "      <td>A must try.. great food great ambience. Thnx f...</td>\n",
       "      <td>5</td>\n",
       "      <td>2 Reviews , 3 Followers</td>\n",
       "      <td>5/24/2019 22:54</td>\n",
       "      <td>0</td>\n",
       "      <td>NaN</td>\n",
       "    </tr>\n",
       "    <tr>\n",
       "      <th>3</th>\n",
       "      <td>Beyond Flavours</td>\n",
       "      <td>Swapnil Sarkar</td>\n",
       "      <td>Soumen das and Arun was a great guy. Only beca...</td>\n",
       "      <td>5</td>\n",
       "      <td>1 Review , 1 Follower</td>\n",
       "      <td>5/24/2019 22:11</td>\n",
       "      <td>0</td>\n",
       "      <td>NaN</td>\n",
       "    </tr>\n",
       "    <tr>\n",
       "      <th>4</th>\n",
       "      <td>Beyond Flavours</td>\n",
       "      <td>Dileep</td>\n",
       "      <td>Food is good.we ordered Kodi drumsticks and ba...</td>\n",
       "      <td>5</td>\n",
       "      <td>3 Reviews , 2 Followers</td>\n",
       "      <td>5/24/2019 21:37</td>\n",
       "      <td>0</td>\n",
       "      <td>NaN</td>\n",
       "    </tr>\n",
       "  </tbody>\n",
       "</table>\n",
       "</div>"
      ],
      "text/plain": [
       "        restaurant              reviewer  \\\n",
       "0  Beyond Flavours     Rusha Chakraborty   \n",
       "1  Beyond Flavours  Anusha Tirumalaneedi   \n",
       "2  Beyond Flavours       Ashok Shekhawat   \n",
       "3  Beyond Flavours        Swapnil Sarkar   \n",
       "4  Beyond Flavours                Dileep   \n",
       "\n",
       "                                              review rating  \\\n",
       "0  The ambience was good, food was quite good . h...      5   \n",
       "1  Ambience is too good for a pleasant evening. S...      5   \n",
       "2  A must try.. great food great ambience. Thnx f...      5   \n",
       "3  Soumen das and Arun was a great guy. Only beca...      5   \n",
       "4  Food is good.we ordered Kodi drumsticks and ba...      5   \n",
       "\n",
       "                  metadata             time  pictures    7514  \n",
       "0   1 Review , 2 Followers  5/25/2019 15:54         0  2447.0  \n",
       "1  3 Reviews , 2 Followers  5/25/2019 14:20         0     NaN  \n",
       "2  2 Reviews , 3 Followers  5/24/2019 22:54         0     NaN  \n",
       "3    1 Review , 1 Follower  5/24/2019 22:11         0     NaN  \n",
       "4  3 Reviews , 2 Followers  5/24/2019 21:37         0     NaN  "
      ]
     },
     "execution_count": 4,
     "metadata": {},
     "output_type": "execute_result"
    }
   ],
   "source": [
    "df.head(5)"
   ]
  },
  {
   "cell_type": "code",
   "execution_count": 5,
   "id": "e342c568",
   "metadata": {},
   "outputs": [
    {
     "name": "stdout",
     "output_type": "stream",
     "text": [
      "<class 'pandas.core.frame.DataFrame'>\n",
      "RangeIndex: 10000 entries, 0 to 9999\n",
      "Data columns (total 8 columns):\n",
      " #   Column      Non-Null Count  Dtype  \n",
      "---  ------      --------------  -----  \n",
      " 0   restaurant  10000 non-null  object \n",
      " 1   reviewer    9962 non-null   object \n",
      " 2   review      9955 non-null   object \n",
      " 3   rating      9962 non-null   object \n",
      " 4   metadata    9962 non-null   object \n",
      " 5   time        9962 non-null   object \n",
      " 6   pictures    10000 non-null  int64  \n",
      " 7   7514        1 non-null      float64\n",
      "dtypes: float64(1), int64(1), object(6)\n",
      "memory usage: 625.1+ KB\n"
     ]
    }
   ],
   "source": [
    "df.info()"
   ]
  },
  {
   "cell_type": "code",
   "execution_count": 6,
   "id": "661f35fb",
   "metadata": {},
   "outputs": [
    {
     "data": {
      "text/plain": [
       "<Axes: xlabel='rating'>"
      ]
     },
     "execution_count": 6,
     "metadata": {},
     "output_type": "execute_result"
    },
    {
     "data": {
      "image/png": "[encoded data removed]",
      "text/plain": [
       "<Figure size 640x480 with 1 Axes>"
      ]
     },
     "metadata": {},
     "output_type": "display_data"
    }
   ],
   "source": [
    "df['rating'].value_counts().sort_index().plot(kind='bar')"
   ]
  },
  {
   "cell_type": "markdown",
   "id": "94dfacf7-ae7b-4122-82d9-099d16ae31be",
   "metadata": {},
   "source": [
    "## Data Prep"
   ]
  },
  {
   "cell_type": "markdown",
   "id": "5f4f54a1-4913-43db-8674-4ac2ea379071",
   "metadata": {},
   "source": [
    "A couple of things are needed before beginning:\n",
    "- dropping reviews that have 'Like' as response rathern than a number\n",
    "- converting the rating to a numeric value and rounding it \n",
    "- dropping reviews with NaN rating \n",
    "- dropping useless features (to make everything smoother)"
   ]
  },
  {
   "cell_type": "code",
   "execution_count": 7,
   "id": "71f5786a-9df7-4f23-94fd-47bec8f9dd97",
   "metadata": {
    "tags": []
   },
   "outputs": [],
   "source": [
    "df.drop(df[df['rating']=='Like'].index, inplace = True)\n",
    "df.dropna(subset = 'review', inplace=True)\n",
    "df.reset_index(inplace=True)\n",
    "df.drop(['reviewer', 'metadata', 'time', 'pictures', '7514'], axis = 1, inplace=True)"
   ]
  },
  {
   "cell_type": "code",
   "execution_count": 8,
   "id": "c96c8558-4cc6-4dda-ba58-b7e05c68d758",
   "metadata": {
    "tags": []
   },
   "outputs": [],
   "source": [
    "df['rating'] = pd.to_numeric(df['rating'])\n",
    "df['rating'] = df['rating'].round(0)"
   ]
  },
  {
   "cell_type": "code",
   "execution_count": 9,
   "id": "a00e7384-835b-4c36-94a3-3ddfb70a71dd",
   "metadata": {
    "tags": []
   },
   "outputs": [
    {
     "data": {
      "text/html": [
       "<div>\n",
       "<style scoped>\n",
       "    .dataframe tbody tr th:only-of-type {\n",
       "        vertical-align: middle;\n",
       "    }\n",
       "\n",
       "    .dataframe tbody tr th {\n",
       "        vertical-align: top;\n",
       "    }\n",
       "\n",
       "    .dataframe thead th {\n",
       "        text-align: right;\n",
       "    }\n",
       "</style>\n",
       "<table border=\"1\" class=\"dataframe\">\n",
       "  <thead>\n",
       "    <tr style=\"text-align: right;\">\n",
       "      <th></th>\n",
       "      <th>index</th>\n",
       "      <th>restaurant</th>\n",
       "      <th>review</th>\n",
       "      <th>rating</th>\n",
       "    </tr>\n",
       "  </thead>\n",
       "  <tbody>\n",
       "    <tr>\n",
       "      <th>0</th>\n",
       "      <td>0</td>\n",
       "      <td>Beyond Flavours</td>\n",
       "      <td>The ambience was good, food was quite good . h...</td>\n",
       "      <td>5.0</td>\n",
       "    </tr>\n",
       "    <tr>\n",
       "      <th>1</th>\n",
       "      <td>1</td>\n",
       "      <td>Beyond Flavours</td>\n",
       "      <td>Ambience is too good for a pleasant evening. S...</td>\n",
       "      <td>5.0</td>\n",
       "    </tr>\n",
       "    <tr>\n",
       "      <th>2</th>\n",
       "      <td>2</td>\n",
       "      <td>Beyond Flavours</td>\n",
       "      <td>A must try.. great food great ambience. Thnx f...</td>\n",
       "      <td>5.0</td>\n",
       "    </tr>\n",
       "    <tr>\n",
       "      <th>3</th>\n",
       "      <td>3</td>\n",
       "      <td>Beyond Flavours</td>\n",
       "      <td>Soumen das and Arun was a great guy. Only beca...</td>\n",
       "      <td>5.0</td>\n",
       "    </tr>\n",
       "    <tr>\n",
       "      <th>4</th>\n",
       "      <td>4</td>\n",
       "      <td>Beyond Flavours</td>\n",
       "      <td>Food is good.we ordered Kodi drumsticks and ba...</td>\n",
       "      <td>5.0</td>\n",
       "    </tr>\n",
       "  </tbody>\n",
       "</table>\n",
       "</div>"
      ],
      "text/plain": [
       "   index       restaurant                                             review  \\\n",
       "0      0  Beyond Flavours  The ambience was good, food was quite good . h...   \n",
       "1      1  Beyond Flavours  Ambience is too good for a pleasant evening. S...   \n",
       "2      2  Beyond Flavours  A must try.. great food great ambience. Thnx f...   \n",
       "3      3  Beyond Flavours  Soumen das and Arun was a great guy. Only beca...   \n",
       "4      4  Beyond Flavours  Food is good.we ordered Kodi drumsticks and ba...   \n",
       "\n",
       "   rating  \n",
       "0     5.0  \n",
       "1     5.0  \n",
       "2     5.0  \n",
       "3     5.0  \n",
       "4     5.0  "
      ]
     },
     "execution_count": 9,
     "metadata": {},
     "output_type": "execute_result"
    }
   ],
   "source": [
    "df.head()"
   ]
  },
  {
   "cell_type": "markdown",
   "id": "ef171480-2cd5-4d51-b444-b7c89b878142",
   "metadata": {},
   "source": [
    "#### Text prep"
   ]
  },
  {
   "cell_type": "markdown",
   "id": "e94275d5-305d-4dc2-af50-db2695e14e0c",
   "metadata": {},
   "source": [
    "To analyze text data we need first to pre-process it in a way that makes it more interpretable for machines.\n",
    "\n",
    "The function data_cleaner does the following things:\n",
    "- converts every character to lowercase\n",
    "- removes punctuation\n",
    "- removes urls (cannot be interpreted as words)\n",
    "- removes line breaks '\\n'\n",
    "- removes stopwords like 'it', 'the' which do not have much value for our models\n",
    "- changes the words to their 'easiest' form ([stem](https://en.wikipedia.org/wiki/Word_stem)) with [PorterStemmer](https://tartarus.org/martin/PorterStemmer/)"
   ]
  },
  {
   "cell_type": "code",
   "execution_count": 10,
   "id": "d9c86c21-4113-4ee1-9a6f-1e6f92240f53",
   "metadata": {
    "tags": []
   },
   "outputs": [],
   "source": [
    "import re\n",
    "#nltk.download('stopwords')\n",
    "from nltk.corpus import stopwords\n",
    "from nltk.stem.porter import PorterStemmer\n",
    "import string\n",
    "\n",
    "stopword=set(stopwords.words('english'))\n",
    "\n",
    "def data_cleaner(text):\n",
    "    text = str(text).lower()\n",
    "    text = re.sub('\\[.*?\\]', '', text)\n",
    "    text = re.sub('https?://\\S+|www\\.\\S+', '', text)\n",
    "    text = re.sub('<.*?>+', '', text)\n",
    "    text = re.sub('[%s]' % re.escape(string.punctuation), '', text)\n",
    "    text = re.sub('\\n', '', text)\n",
    "    text = re.sub('\\w*\\d\\w*', '', text)\n",
    "    text = text.split()\n",
    "    \n",
    "    #Removing stopwords.\n",
    "    text = [word for word in text if not word in stopword]\n",
    "    \n",
    "    #Stemming.\n",
    "    ps = PorterStemmer()\n",
    "    text = [ps.stem(word) for word in text]\n",
    "    \n",
    "    #List to string.\n",
    "    text = ' '.join(text)\n",
    "    \n",
    "    return text  "
   ]
  },
  {
   "cell_type": "code",
   "execution_count": 11,
   "id": "30828248-6289-4566-a972-7cf57b2d8477",
   "metadata": {
    "tags": []
   },
   "outputs": [],
   "source": [
    "df['review_clean'] = df['review'].apply(data_cleaner)"
   ]
  },
  {
   "cell_type": "code",
   "execution_count": 12,
   "id": "8d4ba98a-c47e-49c1-a076-565920af2f20",
   "metadata": {
    "tags": []
   },
   "outputs": [
    {
     "data": {
      "text/html": [
       "<div>\n",
       "<style scoped>\n",
       "    .dataframe tbody tr th:only-of-type {\n",
       "        vertical-align: middle;\n",
       "    }\n",
       "\n",
       "    .dataframe tbody tr th {\n",
       "        vertical-align: top;\n",
       "    }\n",
       "\n",
       "    .dataframe thead th {\n",
       "        text-align: right;\n",
       "    }\n",
       "</style>\n",
       "<table border=\"1\" class=\"dataframe\">\n",
       "  <thead>\n",
       "    <tr style=\"text-align: right;\">\n",
       "      <th></th>\n",
       "      <th>index</th>\n",
       "      <th>restaurant</th>\n",
       "      <th>review</th>\n",
       "      <th>rating</th>\n",
       "      <th>review_clean</th>\n",
       "    </tr>\n",
       "  </thead>\n",
       "  <tbody>\n",
       "    <tr>\n",
       "      <th>0</th>\n",
       "      <td>0</td>\n",
       "      <td>Beyond Flavours</td>\n",
       "      <td>The ambience was good, food was quite good . h...</td>\n",
       "      <td>5.0</td>\n",
       "      <td>ambienc good food quit good saturday lunch cos...</td>\n",
       "    </tr>\n",
       "    <tr>\n",
       "      <th>1</th>\n",
       "      <td>1</td>\n",
       "      <td>Beyond Flavours</td>\n",
       "      <td>Ambience is too good for a pleasant evening. S...</td>\n",
       "      <td>5.0</td>\n",
       "      <td>ambienc good pleasant even servic prompt food ...</td>\n",
       "    </tr>\n",
       "    <tr>\n",
       "      <th>2</th>\n",
       "      <td>2</td>\n",
       "      <td>Beyond Flavours</td>\n",
       "      <td>A must try.. great food great ambience. Thnx f...</td>\n",
       "      <td>5.0</td>\n",
       "      <td>must tri great food great ambienc thnx servic ...</td>\n",
       "    </tr>\n",
       "    <tr>\n",
       "      <th>3</th>\n",
       "      <td>3</td>\n",
       "      <td>Beyond Flavours</td>\n",
       "      <td>Soumen das and Arun was a great guy. Only beca...</td>\n",
       "      <td>5.0</td>\n",
       "      <td>soumen da arun great guy behavior sincereti go...</td>\n",
       "    </tr>\n",
       "    <tr>\n",
       "      <th>4</th>\n",
       "      <td>4</td>\n",
       "      <td>Beyond Flavours</td>\n",
       "      <td>Food is good.we ordered Kodi drumsticks and ba...</td>\n",
       "      <td>5.0</td>\n",
       "      <td>food goodw order kodi drumstick basket mutton ...</td>\n",
       "    </tr>\n",
       "  </tbody>\n",
       "</table>\n",
       "</div>"
      ],
      "text/plain": [
       "   index       restaurant                                             review  \\\n",
       "0      0  Beyond Flavours  The ambience was good, food was quite good . h...   \n",
       "1      1  Beyond Flavours  Ambience is too good for a pleasant evening. S...   \n",
       "2      2  Beyond Flavours  A must try.. great food great ambience. Thnx f...   \n",
       "3      3  Beyond Flavours  Soumen das and Arun was a great guy. Only beca...   \n",
       "4      4  Beyond Flavours  Food is good.we ordered Kodi drumsticks and ba...   \n",
       "\n",
       "   rating                                       review_clean  \n",
       "0     5.0  ambienc good food quit good saturday lunch cos...  \n",
       "1     5.0  ambienc good pleasant even servic prompt food ...  \n",
       "2     5.0  must tri great food great ambienc thnx servic ...  \n",
       "3     5.0  soumen da arun great guy behavior sincereti go...  \n",
       "4     5.0  food goodw order kodi drumstick basket mutton ...  "
      ]
     },
     "execution_count": 12,
     "metadata": {},
     "output_type": "execute_result"
    }
   ],
   "source": [
    "df.head()"
   ]
  },
  {
   "cell_type": "markdown",
   "id": "3e75730b-d74b-4cd1-a7b4-251f571b2f39",
   "metadata": {},
   "source": [
    "Since the dataset is very big for the rest of the cose I'll just use a subsample of 500 restaurant. Clearly the best thing would be to use all the data available but I'm not a patient guy so i'll just assume that is the whole dataset :)"
   ]
  },
  {
   "cell_type": "code",
   "execution_count": 13,
   "id": "423ee0f3-edb4-4519-9fdc-cdbcd39f052a",
   "metadata": {
    "tags": []
   },
   "outputs": [],
   "source": [
    "data = df.head(500).copy()"
   ]
  },
  {
   "cell_type": "markdown",
   "id": "bec04caf-0e2d-4ec4-b06f-99655071a88b",
   "metadata": {},
   "source": [
    "## Models"
   ]
  },
  {
   "cell_type": "code",
   "execution_count": 14,
   "id": "82eb8fb1-2c56-4d01-9ed2-51842413d5bf",
   "metadata": {
    "tags": []
   },
   "outputs": [],
   "source": [
    "from sklearn.model_selection import train_test_split\n",
    "from sklearn.feature_extraction.text import TfidfVectorizer"
   ]
  },
  {
   "cell_type": "code",
   "execution_count": 15,
   "id": "31478240-f8f5-4a21-bd7b-657c60660646",
   "metadata": {
    "tags": []
   },
   "outputs": [],
   "source": [
    "X = data['review_clean']\n",
    "y = data['rating']\n",
    "X_train, X_test, y_train, y_test = train_test_split(X, y, random_state=42)"
   ]
  },
  {
   "cell_type": "markdown",
   "id": "19cd2afe-edd7-49e2-ad53-fd582289aa63",
   "metadata": {},
   "source": [
    "Before applying any model we need to transform the reviews in a form that can be understood by machine: numbers (vectors more specifically). \\\n",
    "To do this I use [TfidfVectorizer](https://scikit-learn.org/stable/modules/generated/sklearn.feature_extraction.text.TfidfVectorizer.html)"
   ]
  },
  {
   "cell_type": "code",
   "execution_count": 16,
   "id": "99985865-189d-418d-84da-d56ca9e0de69",
   "metadata": {
    "tags": []
   },
   "outputs": [],
   "source": [
    "vectorizer = TfidfVectorizer(min_df=3).fit(X_train)\n",
    "X_vectors = vectorizer.transform(X_train)"
   ]
  },
  {
   "cell_type": "markdown",
   "id": "e083c9b2-6f34-4722-b63d-c62b2c89a5f6",
   "metadata": {},
   "source": [
    "#### Random Forest Regression"
   ]
  },
  {
   "cell_type": "markdown",
   "id": "f1b66c70-d73e-47ac-9aa4-a59307350eb7",
   "metadata": {},
   "source": [
    "This is a particular kind of problem because it is a [multi-class classification](https://en.wikipedia.org/wiki/Multiclass_classification) problem, but classes have ordinal properties -> 5 is not only different from 4 but also \"better\" than 4.\\\n",
    "The simplest approach is this case is to treat it like a regression and then round the predicted values."
   ]
  },
  {
   "cell_type": "markdown",
   "id": "7e3a78a1-8054-4f75-8374-240459050426",
   "metadata": {},
   "source": [
    "In the following code I just train a simple random forest regressor.\\\n",
    "When trained \"out-of-the-box\" the model performs very poorly. Luckily we can improve the performance tuning parameters through [cross-validation](https://en.wikipedia.org/wiki/Cross-validation_(statistics)).\\\n",
    "In particular here I use [GridSearchCV](sklearn.model_selection.GridSearchCV)"
   ]
  },
  {
   "cell_type": "code",
   "execution_count": 17,
   "id": "1bada975-f350-49f6-95b6-58089df7acc6",
   "metadata": {
    "tags": []
   },
   "outputs": [
    {
     "data": {
      "text/html": [
       "<style>#sk-container-id-1 {color: black;}#sk-container-id-1 pre{padding: 0;}#sk-container-id-1 div.sk-toggleable {background-color: white;}#sk-container-id-1 label.sk-toggleable__label {cursor: pointer;display: block;width: 100%;margin-bottom: 0;padding: 0.3em;box-sizing: border-box;text-align: center;}#sk-container-id-1 label.sk-toggleable__label-arrow:before {content: \"▸\";float: left;margin-right: 0.25em;color: #696969;}#sk-container-id-1 label.sk-toggleable__label-arrow:hover:before {color: black;}#sk-container-id-1 div.sk-estimator:hover label.sk-toggleable__label-arrow:before {color: black;}#sk-container-id-1 div.sk-toggleable__content {max-height: 0;max-width: 0;overflow: hidden;text-align: left;background-color: #f0f8ff;}#sk-container-id-1 div.sk-toggleable__content pre {margin: 0.2em;color: black;border-radius: 0.25em;background-color: #f0f8ff;}#sk-container-id-1 input.sk-toggleable__control:checked~div.sk-toggleable__content {max-height: 200px;max-width: 100%;overflow: auto;}#sk-container-id-1 input.sk-toggleable__control:checked~label.sk-toggleable__label-arrow:before {content: \"▾\";}#sk-container-id-1 div.sk-estimator input.sk-toggleable__control:checked~label.sk-toggleable__label {background-color: #d4ebff;}#sk-container-id-1 div.sk-label input.sk-toggleable__control:checked~label.sk-toggleable__label {background-color: #d4ebff;}#sk-container-id-1 input.sk-hidden--visually {border: 0;clip: rect(1px 1px 1px 1px);clip: rect(1px, 1px, 1px, 1px);height: 1px;margin: -1px;overflow: hidden;padding: 0;position: absolute;width: 1px;}#sk-container-id-1 div.sk-estimator {font-family: monospace;background-color: #f0f8ff;border: 1px dotted black;border-radius: 0.25em;box-sizing: border-box;margin-bottom: 0.5em;}#sk-container-id-1 div.sk-estimator:hover {background-color: #d4ebff;}#sk-container-id-1 div.sk-parallel-item::after {content: \"\";width: 100%;border-bottom: 1px solid gray;flex-grow: 1;}#sk-container-id-1 div.sk-label:hover label.sk-toggleable__label {background-color: #d4ebff;}#sk-container-id-1 div.sk-serial::before {content: \"\";position: absolute;border-left: 1px solid gray;box-sizing: border-box;top: 0;bottom: 0;left: 50%;z-index: 0;}#sk-container-id-1 div.sk-serial {display: flex;flex-direction: column;align-items: center;background-color: white;padding-right: 0.2em;padding-left: 0.2em;position: relative;}#sk-container-id-1 div.sk-item {position: relative;z-index: 1;}#sk-container-id-1 div.sk-parallel {display: flex;align-items: stretch;justify-content: center;background-color: white;position: relative;}#sk-container-id-1 div.sk-item::before, #sk-container-id-1 div.sk-parallel-item::before {content: \"\";position: absolute;border-left: 1px solid gray;box-sizing: border-box;top: 0;bottom: 0;left: 50%;z-index: -1;}#sk-container-id-1 div.sk-parallel-item {display: flex;flex-direction: column;z-index: 1;position: relative;background-color: white;}#sk-container-id-1 div.sk-parallel-item:first-child::after {align-self: flex-end;width: 50%;}#sk-container-id-1 div.sk-parallel-item:last-child::after {align-self: flex-start;width: 50%;}#sk-container-id-1 div.sk-parallel-item:only-child::after {width: 0;}#sk-container-id-1 div.sk-dashed-wrapped {border: 1px dashed gray;margin: 0 0.4em 0.5em 0.4em;box-sizing: border-box;padding-bottom: 0.4em;background-color: white;}#sk-container-id-1 div.sk-label label {font-family: monospace;font-weight: bold;display: inline-block;line-height: 1.2em;}#sk-container-id-1 div.sk-label-container {text-align: center;}#sk-container-id-1 div.sk-container {/* jupyter's `normalize.less` sets `[hidden] { display: none; }` but bootstrap.min.css set `[hidden] { display: none !important; }` so we also need the `!important` here to be able to override the default hidden behavior on the sphinx rendered scikit-learn.org. See: https://github.com/scikit-learn/scikit-learn/issues/21755 */display: inline-block !important;position: relative;}#sk-container-id-1 div.sk-text-repr-fallback {display: none;}</style><div id=\"sk-container-id-1\" class=\"sk-top-container\"><div class=\"sk-text-repr-fallback\"><pre>RandomForestRegressor(random_state=42)</pre><b>In a Jupyter environment, please rerun this cell to show the HTML representation or trust the notebook. <br />On GitHub, the HTML representation is unable to render, please try loading this page with nbviewer.org.</b></div><div class=\"sk-container\" hidden><div class=\"sk-item\"><div class=\"sk-estimator sk-toggleable\"><input class=\"sk-toggleable__control sk-hidden--visually\" id=\"sk-estimator-id-1\" type=\"checkbox\" checked><label for=\"sk-estimator-id-1\" class=\"sk-toggleable__label sk-toggleable__label-arrow\">RandomForestRegressor</label><div class=\"sk-toggleable__content\"><pre>RandomForestRegressor(random_state=42)</pre></div></div></div></div></div>"
      ],
      "text/plain": [
       "RandomForestRegressor(random_state=42)"
      ]
     },
     "execution_count": 17,
     "metadata": {},
     "output_type": "execute_result"
    }
   ],
   "source": [
    "from sklearn.ensemble import RandomForestRegressor\n",
    "model = RandomForestRegressor(random_state = 42)\n",
    "model.fit(X_vectors, y_train)"
   ]
  },
  {
   "cell_type": "code",
   "execution_count": 18,
   "id": "0456a795-37d6-4485-8a19-d21baa1bf6be",
   "metadata": {
    "tags": []
   },
   "outputs": [],
   "source": [
    "X_vectors_test = vectorizer.transform(X_test)\n",
    "pred = model.predict(X_vectors_test)\n",
    "pred = np.round(pred)"
   ]
  },
  {
   "cell_type": "code",
   "execution_count": 19,
   "id": "e8139860-11fd-4e9f-a21f-6bae3aebfcb6",
   "metadata": {
    "tags": []
   },
   "outputs": [
    {
     "name": "stdout",
     "output_type": "stream",
     "text": [
      "              precision    recall  f1-score   support\n",
      "\n",
      "         1.0       0.00      0.00      0.00        11\n",
      "         2.0       0.12      0.50      0.20         2\n",
      "         3.0       0.18      0.22      0.20         9\n",
      "         4.0       0.24      0.33      0.28        24\n",
      "         5.0       0.81      0.73      0.77        79\n",
      "\n",
      "    accuracy                           0.55       125\n",
      "   macro avg       0.27      0.36      0.29       125\n",
      "weighted avg       0.57      0.55      0.56       125\n",
      "\n"
     ]
    },
    {
     "name": "stderr",
     "output_type": "stream",
     "text": [
      "C:\\Users\\costa\\anaconda3\\Lib\\site-packages\\sklearn\\metrics\\_classification.py:1469: UndefinedMetricWarning: Precision and F-score are ill-defined and being set to 0.0 in labels with no predicted samples. Use `zero_division` parameter to control this behavior.\n",
      "  _warn_prf(average, modifier, msg_start, len(result))\n",
      "C:\\Users\\costa\\anaconda3\\Lib\\site-packages\\sklearn\\metrics\\_classification.py:1469: UndefinedMetricWarning: Precision and F-score are ill-defined and being set to 0.0 in labels with no predicted samples. Use `zero_division` parameter to control this behavior.\n",
      "  _warn_prf(average, modifier, msg_start, len(result))\n",
      "C:\\Users\\costa\\anaconda3\\Lib\\site-packages\\sklearn\\metrics\\_classification.py:1469: UndefinedMetricWarning: Precision and F-score are ill-defined and being set to 0.0 in labels with no predicted samples. Use `zero_division` parameter to control this behavior.\n",
      "  _warn_prf(average, modifier, msg_start, len(result))\n"
     ]
    }
   ],
   "source": [
    "from sklearn.metrics import classification_report\n",
    "print(classification_report(y_test, pred))"
   ]
  },
  {
   "cell_type": "code",
   "execution_count": 20,
   "id": "39e4d8e9-1e58-4e29-a582-450364b440ba",
   "metadata": {
    "tags": []
   },
   "outputs": [],
   "source": [
    "from sklearn.model_selection import GridSearchCV\n",
    "params = {'criterion':['squared_error', 'absolute_error'], 'max_depth':[2, 7, 15], 'max_leaf_nodes':[2, 20]}\n",
    "\n",
    "gsc = GridSearchCV(estimator=RandomForestRegressor(random_state = 42), param_grid=params, cv=5, scoring='neg_mean_squared_error')\n",
    "scores = gsc.fit(X_vectors, y_train)"
   ]
  },
  {
   "cell_type": "code",
   "execution_count": 21,
   "id": "570603ad-76c3-4e15-8701-fb79935352b4",
   "metadata": {
    "tags": []
   },
   "outputs": [
    {
     "name": "stdout",
     "output_type": "stream",
     "text": [
      "best parameters: {'criterion': 'squared_error', 'max_depth': 15, 'max_leaf_nodes': 20}\n"
     ]
    }
   ],
   "source": [
    "print(f'best parameters: {scores.best_params_}')"
   ]
  },
  {
   "cell_type": "code",
   "execution_count": 22,
   "id": "dfa0e1d4-5300-480d-bdb7-903e4caec5ce",
   "metadata": {
    "tags": []
   },
   "outputs": [
    {
     "name": "stdout",
     "output_type": "stream",
     "text": [
      "              precision    recall  f1-score   support\n",
      "\n",
      "         1.0       0.00      0.00      0.00        11\n",
      "         2.0       0.14      0.50      0.22         2\n",
      "         3.0       0.15      0.22      0.18         9\n",
      "         4.0       0.26      0.33      0.29        24\n",
      "         5.0       0.81      0.76      0.78        79\n",
      "\n",
      "    accuracy                           0.57       125\n",
      "   macro avg       0.27      0.36      0.30       125\n",
      "weighted avg       0.58      0.57      0.57       125\n",
      "\n"
     ]
    },
    {
     "name": "stderr",
     "output_type": "stream",
     "text": [
      "C:\\Users\\costa\\anaconda3\\Lib\\site-packages\\sklearn\\metrics\\_classification.py:1469: UndefinedMetricWarning: Precision and F-score are ill-defined and being set to 0.0 in labels with no predicted samples. Use `zero_division` parameter to control this behavior.\n",
      "  _warn_prf(average, modifier, msg_start, len(result))\n",
      "C:\\Users\\costa\\anaconda3\\Lib\\site-packages\\sklearn\\metrics\\_classification.py:1469: UndefinedMetricWarning: Precision and F-score are ill-defined and being set to 0.0 in labels with no predicted samples. Use `zero_division` parameter to control this behavior.\n",
      "  _warn_prf(average, modifier, msg_start, len(result))\n",
      "C:\\Users\\costa\\anaconda3\\Lib\\site-packages\\sklearn\\metrics\\_classification.py:1469: UndefinedMetricWarning: Precision and F-score are ill-defined and being set to 0.0 in labels with no predicted samples. Use `zero_division` parameter to control this behavior.\n",
      "  _warn_prf(average, modifier, msg_start, len(result))\n"
     ]
    }
   ],
   "source": [
    "best = scores.best_estimator_\n",
    "pred = best.predict(X_vectors_test)\n",
    "pred = np.round(pred)\n",
    "print(classification_report(y_test, pred))"
   ]
  },
  {
   "cell_type": "markdown",
   "id": "45e64722-8698-4c53-8eed-2f1a2b879c39",
   "metadata": {},
   "source": [
    "#### Try yourself"
   ]
  },
  {
   "cell_type": "markdown",
   "id": "a7a4baa1-c8ba-4c17-bca3-430f1a7f19ec",
   "metadata": {},
   "source": [
    "Can you do better?\\\n",
    "Here are a few ideas on how this can be improed:\n",
    "- try other models, maybe simpler one (e.g [linear regression](https://en.wikipedia.org/wiki/Linear_regression) or more complex ones (e.g. [GradientBoosting](https://scikit-learn.org/stable/auto_examples/ensemble/plot_gradient_boosting_regression.html), [Support Vector Machine](https://en.wikipedia.org/wiki/Support_vector_machine) regression)\n",
    "- try to use all the data (warning: training the models may take a while)\n",
    "- try to spot any mistakes I did in this process (e.g. Is it correct to use the first 500 observation? Can accuracy be improved by a random sample from the dataset? )\n",
    "- (more advanced) try to use other strategies for ordinal regression (e.g. [ordered logit](https://en.wikipedia.org/wiki/Ordered_logit))"
   ]
  },
  {
   "cell_type": "markdown",
   "id": "81928a1b",
   "metadata": {},
   "source": [
    "#### VADER"
   ]
  },
  {
   "cell_type": "markdown",
   "id": "3f220f34",
   "metadata": {},
   "source": [
    "In this section I try to tackle this task using a pre-trained model called [VADER](https://github.com/cjhutto/vaderSentiment).\\\n",
    "VADER is a simple bag of words approach that computes the positivity/negativity score for each word individually, based on a bag of words --> this means context is not analysed.\\\n",
    "VADER uses a set of [heuristics](https://medium.com/@piocalderon/vader-sentiment-analysis-explained-f1c4f9101cd9) which in part rely on stopwords and puctuation, for this reason the data that we feed the model shouldn't be pre-processed as before\n",
    "\n",
    "From the plot at the end of the section we can see that the model has correclty recognised the review we have in fact that:\n",
    "- the average score for reviews with rating 1 is negative\n",
    "- the average score for reviews with rating 5 is very postive\n",
    "- the overall ranking between the rating was correctly identified\n",
    "\n",
    "The output of this model is slightly differetn than the previous ones. VADER in fact is used for [sentiment analysis](https://en.wikipedia.org/wiki/Sentiment_analysis) that means insteadof predicting our rating it just understands whether a sentence is postive or negative. Then to predicti our labels we can either set thersholds and assign a rating based on those (e.g. if <0.1 rating = 1, if > 0.8 rating = 5) or use the scores returned by the model as features for another machine learning algorithm."
   ]
  },
  {
   "cell_type": "code",
   "execution_count": 23,
   "id": "e5e9976c",
   "metadata": {},
   "outputs": [],
   "source": [
    "from nltk.sentiment import SentimentIntensityAnalyzer\n",
    "sia = SentimentIntensityAnalyzer()"
   ]
  },
  {
   "cell_type": "code",
   "execution_count": 24,
   "id": "0d6080f5-a562-43cb-8cb6-3fe82a1883ea",
   "metadata": {
    "tags": []
   },
   "outputs": [
    {
     "data": {
      "text/plain": [
       "'The ambience was good, food was quite good . had Saturday lunch , which was cost effective .\\nGood place for a sate brunch. One can also chill with friends and or parents.\\nWaiter Soumen Das was really courteous and helpful.'"
      ]
     },
     "execution_count": 24,
     "metadata": {},
     "output_type": "execute_result"
    }
   ],
   "source": [
    "from sklearn.utils import resample\n",
    "data_vader = resample(df, n_samples=2000, replace=False, random_state=42)\n",
    "data_vader.loc[0].review"
   ]
  },
  {
   "cell_type": "code",
   "execution_count": 25,
   "id": "10432946",
   "metadata": {},
   "outputs": [
    {
     "data": {
      "text/plain": [
       "{'neg': 0.0, 'neu': 0.582, 'pos': 0.418, 'compound': 0.9664}"
      ]
     },
     "execution_count": 25,
     "metadata": {},
     "output_type": "execute_result"
    }
   ],
   "source": [
    "sia.polarity_scores(data_vader.loc[0].review)"
   ]
  },
  {
   "cell_type": "code",
   "execution_count": 26,
   "id": "d12b4157",
   "metadata": {},
   "outputs": [
    {
     "data": {
      "application/vnd.jupyter.widget-view+json": {
       "model_id": "8ee5a5af7a82437a82309fffb57abaa1",
       "version_major": 2,
       "version_minor": 0
      },
      "text/plain": [
       "  0%|          | 0/2000 [00:00<?, ?it/s]"
      ]
     },
     "metadata": {},
     "output_type": "display_data"
    }
   ],
   "source": [
    "res = {}\n",
    "for i, row in tqdm(data_vader.iterrows(), total = len(data_vader)):\n",
    "    try:\n",
    "        text = row['review']\n",
    "        score = sia.polarity_scores(text)\n",
    "        res[i] = {**score, **{'text':text}}\n",
    "    except AttributeError:\n",
    "        print(f'error for {text}')"
   ]
  },
  {
   "cell_type": "code",
   "execution_count": 27,
   "id": "0473d1bc",
   "metadata": {},
   "outputs": [],
   "source": [
    "pred = []\n",
    "for i in res:\n",
    "    pred.append(res[i]['compound'])"
   ]
  },
  {
   "cell_type": "code",
   "execution_count": 28,
   "id": "a1713151",
   "metadata": {},
   "outputs": [
    {
     "name": "stdout",
     "output_type": "stream",
     "text": [
      "mean squared error: 2.215509865341572\n"
     ]
    }
   ],
   "source": [
    "data_vader['pred'] = pd.to_numeric(pred)\n",
    "err = sum((data_vader['pred']-data_vader['rating'])**2)/len(df)\n",
    "print(f'mean squared error: {err}')"
   ]
  },
  {
   "cell_type": "markdown",
   "id": "b3ba8fa3-05d8-40ba-a09c-ffbb63e0bfb7",
   "metadata": {},
   "source": [
    "From this plot we can see that the compound scores predicted by the model are actually consistent with the rating, we have indeed that for the score is very low for rating=1 and it increases for higher values of rating."
   ]
  },
  {
   "cell_type": "code",
   "execution_count": 29,
   "id": "2944ab2c",
   "metadata": {},
   "outputs": [
    {
     "data": {
      "image/png": "[encoded data removed]",
      "text/plain": [
       "<Figure size 640x480 with 1 Axes>"
      ]
     },
     "metadata": {},
     "output_type": "display_data"
    }
   ],
   "source": [
    "import seaborn as sns\n",
    "ax = sns.barplot(data=data_vader, x='rating', y='pred')\n",
    "plt.show()"
   ]
  },
  {
   "cell_type": "code",
   "execution_count": 30,
   "id": "11597a4b-d183-4401-8e28-e5fc1dd3b67f",
   "metadata": {
    "tags": []
   },
   "outputs": [],
   "source": [
    "neg = []\n",
    "pos = []\n",
    "neu = []\n",
    "for i in res:\n",
    "    neg.append(res[i]['neg'])\n",
    "    pos.append(res[i]['pos'])\n",
    "    neu.append(res[i]['neu'])"
   ]
  },
  {
   "cell_type": "code",
   "execution_count": 31,
   "id": "6e1fc5fe-fd3f-4ebc-baa0-5c0e38a1e9ed",
   "metadata": {
    "tags": []
   },
   "outputs": [],
   "source": [
    "data_vader_agg = data_vader[['restaurant', 'rating']].copy()"
   ]
  },
  {
   "cell_type": "code",
   "execution_count": 32,
   "id": "056e5a5e-6ed5-4baa-acbf-7ae095e69b25",
   "metadata": {
    "tags": []
   },
   "outputs": [],
   "source": [
    "data_vader_agg['pos_score'] = pos\n",
    "data_vader_agg['neg_score'] = neg\n",
    "data_vader_agg['neu_score'] = neu"
   ]
  },
  {
   "cell_type": "code",
   "execution_count": 33,
   "id": "80ac8b24-8ef4-4a7a-8b13-d086928c9967",
   "metadata": {
    "tags": []
   },
   "outputs": [],
   "source": [
    "data_vader_agg = pd.concat([data_vader_agg[['pos_score', 'neg_score', 'neu_score']], pd.get_dummies(data_vader_agg['restaurant'])], axis = 1)"
   ]
  },
  {
   "cell_type": "code",
   "execution_count": 34,
   "id": "8a731529-604e-43b3-8e46-c2c84ac0a5ad",
   "metadata": {
    "tags": []
   },
   "outputs": [],
   "source": [
    "from sklearn.model_selection import train_test_split \n",
    "y = data_vader['rating'].copy()\n",
    "X_train, X_test, y_train, y_test = train_test_split(data_vader_agg, y, random_state=42)"
   ]
  },
  {
   "cell_type": "code",
   "execution_count": 35,
   "id": "38a482b6-e81e-4fc5-b844-42274db4ccf2",
   "metadata": {
    "tags": []
   },
   "outputs": [
    {
     "data": {
      "text/html": [
       "<style>#sk-container-id-2 {color: black;}#sk-container-id-2 pre{padding: 0;}#sk-container-id-2 div.sk-toggleable {background-color: white;}#sk-container-id-2 label.sk-toggleable__label {cursor: pointer;display: block;width: 100%;margin-bottom: 0;padding: 0.3em;box-sizing: border-box;text-align: center;}#sk-container-id-2 label.sk-toggleable__label-arrow:before {content: \"▸\";float: left;margin-right: 0.25em;color: #696969;}#sk-container-id-2 label.sk-toggleable__label-arrow:hover:before {color: black;}#sk-container-id-2 div.sk-estimator:hover label.sk-toggleable__label-arrow:before {color: black;}#sk-container-id-2 div.sk-toggleable__content {max-height: 0;max-width: 0;overflow: hidden;text-align: left;background-color: #f0f8ff;}#sk-container-id-2 div.sk-toggleable__content pre {margin: 0.2em;color: black;border-radius: 0.25em;background-color: #f0f8ff;}#sk-container-id-2 input.sk-toggleable__control:checked~div.sk-toggleable__content {max-height: 200px;max-width: 100%;overflow: auto;}#sk-container-id-2 input.sk-toggleable__control:checked~label.sk-toggleable__label-arrow:before {content: \"▾\";}#sk-container-id-2 div.sk-estimator input.sk-toggleable__control:checked~label.sk-toggleable__label {background-color: #d4ebff;}#sk-container-id-2 div.sk-label input.sk-toggleable__control:checked~label.sk-toggleable__label {background-color: #d4ebff;}#sk-container-id-2 input.sk-hidden--visually {border: 0;clip: rect(1px 1px 1px 1px);clip: rect(1px, 1px, 1px, 1px);height: 1px;margin: -1px;overflow: hidden;padding: 0;position: absolute;width: 1px;}#sk-container-id-2 div.sk-estimator {font-family: monospace;background-color: #f0f8ff;border: 1px dotted black;border-radius: 0.25em;box-sizing: border-box;margin-bottom: 0.5em;}#sk-container-id-2 div.sk-estimator:hover {background-color: #d4ebff;}#sk-container-id-2 div.sk-parallel-item::after {content: \"\";width: 100%;border-bottom: 1px solid gray;flex-grow: 1;}#sk-container-id-2 div.sk-label:hover label.sk-toggleable__label {background-color: #d4ebff;}#sk-container-id-2 div.sk-serial::before {content: \"\";position: absolute;border-left: 1px solid gray;box-sizing: border-box;top: 0;bottom: 0;left: 50%;z-index: 0;}#sk-container-id-2 div.sk-serial {display: flex;flex-direction: column;align-items: center;background-color: white;padding-right: 0.2em;padding-left: 0.2em;position: relative;}#sk-container-id-2 div.sk-item {position: relative;z-index: 1;}#sk-container-id-2 div.sk-parallel {display: flex;align-items: stretch;justify-content: center;background-color: white;position: relative;}#sk-container-id-2 div.sk-item::before, #sk-container-id-2 div.sk-parallel-item::before {content: \"\";position: absolute;border-left: 1px solid gray;box-sizing: border-box;top: 0;bottom: 0;left: 50%;z-index: -1;}#sk-container-id-2 div.sk-parallel-item {display: flex;flex-direction: column;z-index: 1;position: relative;background-color: white;}#sk-container-id-2 div.sk-parallel-item:first-child::after {align-self: flex-end;width: 50%;}#sk-container-id-2 div.sk-parallel-item:last-child::after {align-self: flex-start;width: 50%;}#sk-container-id-2 div.sk-parallel-item:only-child::after {width: 0;}#sk-container-id-2 div.sk-dashed-wrapped {border: 1px dashed gray;margin: 0 0.4em 0.5em 0.4em;box-sizing: border-box;padding-bottom: 0.4em;background-color: white;}#sk-container-id-2 div.sk-label label {font-family: monospace;font-weight: bold;display: inline-block;line-height: 1.2em;}#sk-container-id-2 div.sk-label-container {text-align: center;}#sk-container-id-2 div.sk-container {/* jupyter's `normalize.less` sets `[hidden] { display: none; }` but bootstrap.min.css set `[hidden] { display: none !important; }` so we also need the `!important` here to be able to override the default hidden behavior on the sphinx rendered scikit-learn.org. See: https://github.com/scikit-learn/scikit-learn/issues/21755 */display: inline-block !important;position: relative;}#sk-container-id-2 div.sk-text-repr-fallback {display: none;}</style><div id=\"sk-container-id-2\" class=\"sk-top-container\"><div class=\"sk-text-repr-fallback\"><pre>RandomForestRegressor(random_state=42)</pre><b>In a Jupyter environment, please rerun this cell to show the HTML representation or trust the notebook. <br />On GitHub, the HTML representation is unable to render, please try loading this page with nbviewer.org.</b></div><div class=\"sk-container\" hidden><div class=\"sk-item\"><div class=\"sk-estimator sk-toggleable\"><input class=\"sk-toggleable__control sk-hidden--visually\" id=\"sk-estimator-id-2\" type=\"checkbox\" checked><label for=\"sk-estimator-id-2\" class=\"sk-toggleable__label sk-toggleable__label-arrow\">RandomForestRegressor</label><div class=\"sk-toggleable__content\"><pre>RandomForestRegressor(random_state=42)</pre></div></div></div></div></div>"
      ],
      "text/plain": [
       "RandomForestRegressor(random_state=42)"
      ]
     },
     "execution_count": 35,
     "metadata": {},
     "output_type": "execute_result"
    }
   ],
   "source": [
    "from sklearn.ensemble import RandomForestRegressor\n",
    "\n",
    "model = RandomForestRegressor(random_state = 42)\n",
    "model.fit(X_train, y_train)"
   ]
  },
  {
   "cell_type": "code",
   "execution_count": 36,
   "id": "0c2a8591-efa0-4370-8a76-dfecd52fe06c",
   "metadata": {
    "tags": []
   },
   "outputs": [
    {
     "name": "stdout",
     "output_type": "stream",
     "text": [
      "              precision    recall  f1-score   support\n",
      "\n",
      "         1.0       0.59      0.26      0.36        91\n",
      "         2.0       0.15      0.24      0.18        37\n",
      "         3.0       0.15      0.22      0.18        54\n",
      "         4.0       0.42      0.49      0.45       134\n",
      "         5.0       0.69      0.61      0.65       184\n",
      "\n",
      "    accuracy                           0.45       500\n",
      "   macro avg       0.40      0.37      0.37       500\n",
      "weighted avg       0.50      0.45      0.46       500\n",
      "\n"
     ]
    }
   ],
   "source": [
    "from sklearn.metrics import classification_report\n",
    "pred = model.predict(X_test)\n",
    "pred = np.round(pred)\n",
    "print(classification_report(y_test, pred))"
   ]
  },
  {
   "cell_type": "markdown",
   "id": "6efbe861",
   "metadata": {},
   "source": [
    "#### Try this "
   ]
  },
  {
   "cell_type": "markdown",
   "id": "3a21d58e-b7da-4eb1-8865-dc66bc561cae",
   "metadata": {},
   "source": [
    "Can you do better? Try to tune parameters or other models"
   ]
  },
  {
   "cell_type": "markdown",
   "id": "a6a70ec9",
   "metadata": {},
   "source": [
    "### Using pretrained HuggingFace model"
   ]
  },
  {
   "cell_type": "markdown",
   "id": "fafb7bc6-ed13-47e9-958f-9b90d6b59035",
   "metadata": {},
   "source": [
    "In this section I use a pretrained BERT model. It is also possible to fine-tune a BERT model ([see here](https://github.com/vanderbilt-data-science/bigdata/blob/main/06-fine-tune-BERT-on-our-dataset.ipynb))\\\n",
    "In this case I chose a \"RoBERTa-base model trained on ~124M tweets\" [more here](https://huggingface.co/cardiffnlp/twitter-roberta-base-sentiment-latest). More models can be found on the [HuggingFace](https://huggingface.co/models) website\n",
    "\n",
    "The code that follows is used to:\n",
    "- load the weights of a pretrained model that are used for prediction\n",
    "- turn text into tensotrs to be used by the mdel, using the function tokenizer (also this is pretrained)\n",
    "\n",
    "Same as before this instead of assigning the review to a certain rating, roBERTa just computes negativity, positivity and neutrality scores."
   ]
  },
  {
   "cell_type": "code",
   "execution_count": 37,
   "id": "96a194de",
   "metadata": {},
   "outputs": [],
   "source": [
    "from transformers import AutoTokenizer, AutoModelForSequenceClassification\n",
    "from transformers import RobertaModel\n",
    "from scipy.special import softmax"
   ]
  },
  {
   "cell_type": "code",
   "execution_count": 38,
   "id": "763c8e65",
   "metadata": {},
   "outputs": [
    {
     "name": "stderr",
     "output_type": "stream",
     "text": [
      "Some weights of the model checkpoint at cardiffnlp/twitter-roberta-base-sentiment-latest were not used when initializing RobertaForSequenceClassification: ['roberta.pooler.dense.bias', 'roberta.pooler.dense.weight']\n",
      "- This IS expected if you are initializing RobertaForSequenceClassification from the checkpoint of a model trained on another task or with another architecture (e.g. initializing a BertForSequenceClassification model from a BertForPreTraining model).\n",
      "- This IS NOT expected if you are initializing RobertaForSequenceClassification from the checkpoint of a model that you expect to be exactly identical (initializing a BertForSequenceClassification model from a BertForSequenceClassification model).\n"
     ]
    }
   ],
   "source": [
    "MODEL = \"cardiffnlp/twitter-roberta-base-sentiment-latest\"\n",
    "tokenizer = AutoTokenizer.from_pretrained(MODEL)\n",
    "model = AutoModelForSequenceClassification.from_pretrained(MODEL)"
   ]
  },
  {
   "cell_type": "code",
   "execution_count": 39,
   "id": "f1dd57a8",
   "metadata": {},
   "outputs": [],
   "source": [
    "def roberta_model(ex):\n",
    "    enc_txt = tokenizer(ex, return_tensors='pt')\n",
    "    output = model(**enc_txt)\n",
    "    a = output[0][0].detach().numpy()\n",
    "    b = softmax(a)\n",
    "    res_dict = {\n",
    "        'roberta_neg' : b[0],\n",
    "        'roberta_neu' : b[1],\n",
    "        'roberta_pos' : b[2]\n",
    "    }\n",
    "    return res_dict"
   ]
  },
  {
   "cell_type": "code",
   "execution_count": 40,
   "id": "a9460676",
   "metadata": {},
   "outputs": [],
   "source": [
    "data_roberta = resample(df, n_samples=500, replace=False, random_state=42)"
   ]
  },
  {
   "cell_type": "code",
   "execution_count": 41,
   "id": "bf881d65-e170-4391-8eb8-4283cea394ca",
   "metadata": {
    "tags": []
   },
   "outputs": [
    {
     "data": {
      "text/plain": [
       "{'roberta_neg': 0.7178459, 'roberta_neu': 0.2618411, 'roberta_pos': 0.02031299}"
      ]
     },
     "execution_count": 41,
     "metadata": {},
     "output_type": "execute_result"
    }
   ],
   "source": [
    "roberta_model(data_roberta.iloc[0].review)"
   ]
  },
  {
   "cell_type": "markdown",
   "id": "c623c316",
   "metadata": {},
   "source": [
    "Warning: the for loop in the next cell is slow af"
   ]
  },
  {
   "cell_type": "code",
   "execution_count": 42,
   "id": "f5998486",
   "metadata": {},
   "outputs": [
    {
     "data": {
      "application/vnd.jupyter.widget-view+json": {
       "model_id": "0fda28cf41a945278cf70698f3de5346",
       "version_major": 2,
       "version_minor": 0
      },
      "text/plain": [
       "  0%|          | 0/500 [00:00<?, ?it/s]"
      ]
     },
     "metadata": {},
     "output_type": "display_data"
    },
    {
     "name": "stdout",
     "output_type": "stream",
     "text": [
      "error for I wanted to make my adjustments in my food habits and was looking for genuine healthy options around Gachibowli. I did my little research and understood that many products which are being sold as healthy are nothing but just great marketing tricks amidst all of this chaos a newly opened food chain by name eat-fit was my saviour. This was the only place which mentioned the calorific value precisely which is very rare in case of freshly prepared food in India. Few reasons why eat-fit is better than other places \n",
      "\n",
      "1) They do not use any processed ingredients \n",
      "2) They do daily sourcing of veggies & meats ( That's the real secret for the consistent taste) \n",
      "3) They use less amount of oil compared to any other joint in the market \n",
      "4) NO Maida No Sugar what so ever in any of their dishes \n",
      "5) Daily Cooking (They cook a limited number of portions )\n",
      "and there are various other reasons as well \n",
      "\n",
      "The calorie count does help me keep my weight in check and the best part is all the Indian meals are very tasty especially their No cream Dal Makhni, Nilgiri Chicken, Hyderabadi Chicken, Mangalorean Chicken, Kashmiri Chicken, Tawa Subzi, Paneer gravy in Chefs special veg thali to mention a few. Not just lunch and dinner they started catering snacks and breakfast as well making it easy to have healthy food at any point in a day. The healthy desserts, smoothies and snacks like chicken tacos, Wheat Chicken Momos, Chicken Baida Roti are filling. These help me get rid of my crazy hunger pangs in the evening.\n",
      "\n",
      "The only downside for me is that it's a Zomato Exclusive and Zomato is pathetic in the market when it comes to food delivery. They promise to deliver the food any time between 30- 40 mins to my location but its generally more than an hour. By the time food arrives, it's already cold which I hate personally. This happens mainly because they assign multiple deliveries and the other location would be too far from my location. The algorithm being used by Zomato is highly inefficient as of now and the customer care executives are helpless. Zomato needs to check this and also eat-fit management also should take some actions against Zomato. They have prepared nice and tasty food but due to their dependency on Zomato Exclusivity many customers are disappointed \n",
      "\n",
      "Verdict \n",
      "Taste 4.5/5\n",
      "Packaging 4/5\n",
      "VFM 4.5/5\n",
      "Overall 4.5/5\n",
      "Zomato Delivery - 1/5\n",
      "error for Best place Ever Jonathan's Kitchen\n",
      "\n",
      "If you are near Gachibowli and are planning to have a perfect lunch or dinner so I recommend you the best place is Jonathan's kitchen, where you can visit with your family and friends. I really loved this place from it’s ambiance to food and service, everything’s top notch.\n",
      "\n",
      "It was Wednesday night and we were near Gachibowli and really hungry, when I suggested we will visit Jonathan's Kitchen, it is my favorite place to hangout. I was with my five friends and we started our dinner with their special starters Grilled Pomfret, Chili chicken , Crispy Corn , Chicken Wings, Nawabi shikampuri kebab, Dragon prawns and Tiger prawns. All of the starters were the best, I have never tried such before anywhere. Now that the starting was the best, I promise at the end it will be a blast.\n",
      "\n",
      "Grilled pomfret was tasty and soft to bite, it was properly cooked with perfect spices and we ordered this twice. It was so good! Chili chicken wasn’t much spicy, it was well equitable of spices and the best starter to start our dinner. Crispy corn I have tried at many restaurants and I loved Flechazo’s before, but now I can say the best crispy corn is at Jonathan's kitchen. I think this is the best compliment. Chicken wings for this just one word magnificent!\n",
      "\n",
      "Then my favorite part were the prawns. Here we tried 3 different types of prawns, Butter Garlic prawns; this is just out of the world first time we have tried this really the taste is unforgettable, Dragon prawns; one of my friends suggested me to try this here, Mr. Tarak, the name itself represents dragon prawns. It is the best in prawns compared to tiger prawns, Tiger prawns; these were too large in size, I have never seen the size of prawns like tiger prawns taste also too good it was the best to end our starters.\n",
      "\n",
      "Then we ordered some mocktails because it’s mandatory; Orange delight ,Cucumber n mint, Virgin pina colada ,Black current, Spicy tango and Blue lagoon or blue heaven. Every mocktail has their own specialty. Orange delight and cucumber n mint were the winners of the evening. Black current is really good in taste and refreshing. Spicy tango and blue lagoon were the ultimate mocktails. Every mocktail is best at Jonathan's kitchen.\n",
      "\n",
      "Then it’s time for main course, in that we ordered Dal Tadka and Rara Gosht with Butter naan and Amritsari Kulcha, and Burnt Fried Rice with Schezwan Chicken Gravy. Every dish just left us speechless! Dal tadka and rara gosht tasted absolutely great with butter naan and Amritsari Kulcha. Burnt Fried Rice with Schezwan Chicken Gravy was the ultimate dishe to end our phenomenal dinner at Jonathan's kitchen.\n",
      "\n",
      "But without dessert, I never end my dinner. So here we ordered Gulab jamun, Chocolate fondant cake with vanilla ice cream and Cream brulee with Fresh fruits. All the desserts are just marvelous to end our dinner.\n",
      "\n",
      "Thanks to Mr. Rashid for the lovely dinner at Jonathan's kitchen. Thanks to the entire team of Jonathan's kitchen who served us in a very good way and special thanks to Surrender and Chef vijay.\n",
      "\n",
      "Must Try:\n",
      "Dragon prawns\n",
      "Butter Garlic Prawns\n",
      "Tiger Prawns\n",
      "Grilled pomfret\n",
      "Crispy corn\n",
      "Orange delight\n",
      "Cucumber n mint\n",
      "Rara Gosht\n",
      "Burnt Fried Rice with Schezwan Chicken Gravy\n",
      "Chocolate foundant with vanilla ice cream\n",
      "Creme Brulee\n",
      "error for This outlet has been secluded from the limelight of the Kondapur gachibowli stretch but still manages to garner a decent amount of crowd.\n",
      "\n",
      "The ambiance is pretty ambivalent with that of a buffet restaurant and casual dining space. It was well lit but could really deck up a few notches. It was more like a corporate dining room rather than a restaurant.\n",
      "\n",
      "Upon arrival, were served welcome drink which was good but not living up to the expectation. We were asked if we are here for buffet. The restaurant it seems is more concentrated on buffet. I had a look at the menu and it didn't interest me.\n",
      "\n",
      "The manager at this place was a nice fellow. Who carefully took our order of dragon chicken, punjabi chicken curry, and garlic naan. After a fair bit of waiting time, we're served with dragon chicken.\n",
      "\n",
      "I would have like the dish to be more crispy and dry, so that the flavours stick to the chicken. It was a hurried preparation of a dish with no amount of time spared for presentation.\n",
      "\n",
      "The servers need to be taught a little bit about serving. They were fumbling and also were handling hot utensils without using tissue papers.\n",
      "\n",
      "Then we move on to punjabi chicken curry and garlic naan. Simply put, it was a disaster. The curry was as bland as it could be. Most restaurants in this part of India assume that all dishes of Punjab are made with tandoori chicken and they seriously need to get out of this blind belief. We could only experience the tandoori chicken as the curry had no taste of its own. It was just sitting there doing nothing. Neither it was spicy, not it was tangy. It was going nowhere.\n",
      "\n",
      "The problem here doesn't lie with the chefs. It lies with the restaurant which is confused in what they are trying to do. They say they are multi cuisine, but multi cuisine doesn't mean, you can make disaster dishes and pass them off. I am not a fan of multi cuisine. When you have such a title, you should at least try to make it work for you. The restaurant is confused whether it should cater to immigrant North Indian population or the traditional South Indian population.\n",
      "\n",
      "One thing that screams out their confusion about the above is their Buffet menu. They tried to make it a fusion and have ended it making a confusion.\n",
      "\n",
      "Had the restaurant, been a traditional southern one, I would have been pleased to order a plate of traditional andhra chicken on a banana leaf and would have eaten to my hearts content.\n",
      "\n",
      "The restaurant needs to find its footing. The owners need to decide which way they want to go. Maybe hire some traditional North Indian guys for North cuisine.\n",
      "\n",
      "Ambience : 3\n",
      "Taste: 2\n",
      "Service :2\n",
      "Value for money: 2\n"
     ]
    }
   ],
   "source": [
    "res = {}\n",
    "for i, row in tqdm(data_roberta.iterrows(), total=len(data_roberta)):\n",
    "    try:\n",
    "        text = row['review']\n",
    "        res_dict = roberta_model(text)\n",
    "        res[i] = {**res_dict, **{'text':text}}\n",
    "    except:\n",
    "        print(f'error for {text}')"
   ]
  },
  {
   "cell_type": "code",
   "execution_count": 43,
   "id": "383eb881-5847-47dd-be21-af58a0408e79",
   "metadata": {},
   "outputs": [],
   "source": [
    "roberta_pos = []\n",
    "roberta_neg = []\n",
    "roberta_neu = []\n",
    "for i in res:\n",
    "    roberta_pos.append(res[i]['roberta_pos'])\n",
    "    roberta_neg.append(res[i]['roberta_neg'])\n",
    "    roberta_neu.append(res[i]['roberta_neu'])"
   ]
  },
  {
   "cell_type": "markdown",
   "id": "c65ff5c5-f724-42a5-9968-53660bffa550",
   "metadata": {},
   "source": [
    "From this plot we can see that the compound scores predicted by the model are actually consistent with the rating, we have indeed that for the score is very low for rating=1 and it increases for higher values of rating."
   ]
  },
  {
   "cell_type": "code",
   "execution_count": 44,
   "id": "7fc90d61-b0ef-41c9-bd98-63e0c5264965",
   "metadata": {},
   "outputs": [
    {
     "data": {
      "image/png": "[encoded data removed]",
      "text/plain": [
       "<Figure size 1000x500 with 3 Axes>"
      ]
     },
     "metadata": {},
     "output_type": "display_data"
    }
   ],
   "source": [
    "import seaborn as sns\n",
    "valid = data_roberta[data_roberta['review'].apply(lambda x: True if len(x)<2000 else False)]\n",
    "fig, axs = plt.subplots(ncols=3, figsize=(10, 5))\n",
    "sns.barplot(x = valid['rating'] , y=roberta_pos, ax=axs[0]).set_title('positive')\n",
    "sns.barplot(x = valid['rating'] , y=roberta_neu, ax=axs[1]).set_title('neutral')\n",
    "sns.barplot(x = valid['rating'] , y=roberta_neg, ax=axs[2]).set_title('negative')\n",
    "plt.show()"
   ]
  }
 ],
 "metadata": {
  "kernelspec": {
   "display_name": "Python 3 (ipykernel)",
   "language": "python",
   "name": "python3"
  },
  "language_info": {
   "codemirror_mode": {
    "name": "ipython",
    "version": 3
   },
   "file_extension": ".py",
   "mimetype": "text/x-python",
   "name": "python",
   "nbconvert_exporter": "python",
   "pygments_lexer": "ipython3",
   "version": "3.11.5"
  }
 },
 "nbformat": 4,
 "nbformat_minor": 5
}
